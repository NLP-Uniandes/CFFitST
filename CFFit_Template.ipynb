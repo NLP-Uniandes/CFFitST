{
 "cells": [
  {
   "cell_type": "code",
   "execution_count": null,
   "id": "f72a2ca4-36e6-4702-841c-3ae00802be15",
   "metadata": {},
   "outputs": [],
   "source": [
    "import pandas as pd\n",
    "from sklearn.metrics import classification_report\n",
    "from collections import defaultdict\n",
    "from sentence_transformers.losses import CosineSimilarityLoss\n",
    "from CFFit import CFFitST, ClassificationHead"
   ]
  },
  {
   "cell_type": "code",
   "execution_count": null,
   "id": "73ffe364-3684-4b13-9a0d-ddef455e78f5",
   "metadata": {},
   "outputs": [],
   "source": [
    "BASE_MODEL = \"all-mpnet-base-v2\"\n",
    "RANDOM_SEED = 23\n",
    "OUTPUT_PATH = 'output'\n",
    "\n",
    "import torch\n",
    "\n",
    "device_num = 3\n",
    "DEVICE = \"cuda:\"+str(device_num)\n",
    "torch.cuda.set_device(device_num)\n",
    "DEVICE = DEVICE if torch.cuda.is_available() else \"cpu\""
   ]
  },
  {
   "cell_type": "code",
   "execution_count": null,
   "id": "9d8a074e-1c17-4ffc-a6a8-2ae991d212a4",
   "metadata": {},
   "outputs": [],
   "source": [
    "train_set = pd.read_csv(\"data/issues_train.csv\")\n",
    "test_set = pd.read_csv(\"data/issues_test.csv\")"
   ]
  },
  {
   "cell_type": "code",
   "execution_count": null,
   "id": "307fa414-42d2-46f6-825b-279e328e20f3",
   "metadata": {},
   "outputs": [],
   "source": [
    "repos = list(set(train_set[\"repo\"].unique()))\n",
    "print(repos)"
   ]
  },
  {
   "cell_type": "code",
   "execution_count": null,
   "id": "66e6e24e-d111-4b96-ba59-cc20e7886d9b",
   "metadata": {},
   "outputs": [],
   "source": [
    "train_set.groupby([\"repo\", \"label\"]).size().unstack(fill_value=0)"
   ]
  },
  {
   "cell_type": "code",
   "execution_count": null,
   "id": "b90714e6-b008-41e4-bf42-1c325eb32364",
   "metadata": {},
   "outputs": [],
   "source": [
    "from keras.utils import to_categorical\n",
    "\n",
    "def process_dataset(df):\n",
    "    \n",
    "    for i, row in df.iterrows():\n",
    "        #print(row)\n",
    "        df.at[i,'text'] = str(row['title']) + \" \" + str(row['body'])\n",
    "    df = df[['text', 'label', 'repo']]\n",
    "    return df\n",
    "    \n",
    "train_set, test_set = process_dataset(train_set), process_dataset(test_set)\n",
    "\n",
    "dic_labels = {\"feature\":0,\"bug\":1,\"question\":2}\n",
    "def get_labels(data_set):\n",
    "    labels = data_set[\"label\"]\n",
    "    return to_categorical([ dic_labels[label] for i, label in labels.items()], num_classes=3)\n",
    "\n",
    "\n",
    "\n",
    "def get_x_y(df):\n",
    "    x = df[\"text\"].to_list()\n",
    "    y = get_labels(df)\n",
    "    return x, y "
   ]
  },
  {
   "cell_type": "code",
   "execution_count": null,
   "id": "c940ba91-06d3-4038-a90e-d943db32eec1",
   "metadata": {},
   "outputs": [],
   "source": [
    "from sklearn.metrics import classification_report\n",
    "import numpy as np\n",
    "from sklearn.metrics import classification_report, confusion_matrix, accuracy_score, ConfusionMatrixDisplay\n",
    "import matplotlib.pyplot as plt\n",
    "import seaborn as sns\n",
    "\n",
    "dic_labels = {\"feature\":0,\"bug\":1,\"question\":2}\n",
    "def class_report(y_true, y_pred, name_repo):\n",
    "  \n",
    "  # Convert the predicted probabilities to class labels\n",
    "  y_pred_classes = np.argmax(y_pred, axis=1)  # Assuming a one-hot encoded target variable\n",
    "\n",
    "  # Convert the true labels to class labels (if needed)\n",
    "  y_true_classes = np.argmax(y_true, axis=1)  # Replace 'y_true' with your true labels\n",
    "\n",
    "  # Generate the classification report\n",
    "  report = classification_report(y_true_classes, y_pred_classes)\n",
    "  print(name_repo)\n",
    "  print(report)\n",
    "  # Calcular la matriz de confusión\n",
    "  matriz_confusion = confusion_matrix(y_true_classes, y_pred_classes)\n",
    "\n",
    "  # Crear un heatmap de la matriz de confusión\n",
    "  plt.figure(figsize=(4, 3))\n",
    "  sns.heatmap(matriz_confusion, annot=True, fmt='d', cmap='Blues',\n",
    "              xticklabels=list(dic_labels.keys()), yticklabels=list(dic_labels.keys()))\n",
    "  plt.xlabel('Predicted')\n",
    "  plt.ylabel('Actual')\n",
    "  plt.title(name_repo)\n",
    "  plt.show()\n",
    "  return classification_report(y_true_classes, y_pred_classes, output_dict=True, digits=4)"
   ]
  },
  {
   "cell_type": "code",
   "execution_count": null,
   "id": "179aae76-0d87-4788-82ec-44e4b0973c3c",
   "metadata": {
    "scrolled": true
   },
   "outputs": [],
   "source": [
    "from CFFit import CFFitST, ClassificationHead\n",
    "\n",
    "results = defaultdict(dict)\n",
    "for repo in repos:\n",
    "    train_set_repo, test_set_repo = train_set[train_set[\"repo\"]==repo], test_set[train_set[\"repo\"]==repo]\n",
    "    \n",
    "    cff_model = CFFitST.from_pretrained(BASE_MODEL)\n",
    "    cff_model.to(DEVICE)\n",
    "    cff_model.fit(train_set_repo, [\"bug\",\"feature\",\"question\"], random_state = RANDOM_SEED,\\\n",
    "            epochs=3, validation_data=0.1, chunk_size=0.2,\\\n",
    "            positive_threshold=0.95, negative_threshold=0.05,\\\n",
    "            chunks_reviewed =3, batch_size = 32, min_chunk_size = 0.25, verbose=False,\\\n",
    "            save_path = OUTPUT_PATH, name=repo.replace(\"/\",\"_\")+\"_model_test\")\n",
    "    \n",
    "    cff_head = ClassificationHead(cff_model)\n",
    "    cff_head.to(DEVICE)\n",
    "    x, y = get_x_y(train_set_repo)\n",
    "    cff_head.fit(x,y,epochs=2)\n",
    "    y_pred = cff_head.predict(test_set_repo['text'])\n",
    "    \n",
    "    results[repo]['metrics'] = class_report(get_labels(test_set_repo), y_pred,repo)\n",
    "    results[repo]['predictions'] = y_pred.tolist()\n",
    "    \n",
    "    "
   ]
  },
  {
   "cell_type": "code",
   "execution_count": null,
   "id": "46de79e5-54c9-42b4-a47d-4e75d31656b4",
   "metadata": {},
   "outputs": [],
   "source": [
    "import json\n",
    "print(results['label_mapping'])\n",
    "for repo in repos:\n",
    "    print(repo)\n",
    "    print(json.dumps(results[repo]['metrics'], indent=4))"
   ]
  },
  {
   "cell_type": "code",
   "execution_count": null,
   "id": "53297178-1345-4b7c-b6c6-cc12fc77662c",
   "metadata": {},
   "outputs": [],
   "source": [
    "class_metrics_sum = defaultdict(defaultdict)\n",
    "labels = [key for key in results[repos[0]]['metrics'].keys() if key.isnumeric()]\n",
    "\n",
    "for repo in repos:\n",
    "    for label in labels:\n",
    "        for metric in results[repo]['metrics'][label]:\n",
    "            class_metrics_sum[label][metric] = class_metrics_sum[label].get(metric, 0) + results[repo]['metrics'][label][metric]\n",
    "\n",
    "class_metrics_avg = {\n",
    "    label: {\n",
    "        metric: class_metrics_sum[label][metric] / len(repos)\n",
    "        for metric in class_metrics_sum[label]\n",
    "    }\n",
    "    for label in labels\n",
    "}\n",
    "\n",
    "# add the average of the metric over all classes\n",
    "class_metrics_avg['average'] = {\n",
    "    metric: sum(class_metrics_avg[label][metric] for label in labels)\n",
    "    / len(labels)\n",
    "    for metric in class_metrics_avg[labels[0]]\n",
    "}\n",
    "\n",
    "# add to the results    \n",
    "results['overall'] = {\n",
    "    'metrics': class_metrics_avg\n",
    "}"
   ]
  },
  {
   "cell_type": "code",
   "execution_count": null,
   "id": "8beeae4d-f143-4592-8877-d39385a8b5f9",
   "metadata": {},
   "outputs": [],
   "source": [
    "import os\n",
    "output_file_name = 'results.json'\n",
    "with open(os.path.join(OUTPUT_PATH, output_file_name), 'w') as fp:\n",
    "    json.dump(results, fp)"
   ]
  },
  {
   "cell_type": "code",
   "execution_count": null,
   "id": "f0658299-266a-424e-ac61-b0c30f438c96",
   "metadata": {},
   "outputs": [],
   "source": []
  }
 ],
 "metadata": {
  "kernelspec": {
   "display_name": "Python 3 (ipykernel)",
   "language": "python",
   "name": "python3"
  },
  "language_info": {
   "codemirror_mode": {
    "name": "ipython",
    "version": 3
   },
   "file_extension": ".py",
   "mimetype": "text/x-python",
   "name": "python",
   "nbconvert_exporter": "python",
   "pygments_lexer": "ipython3",
   "version": "3.10.12"
  }
 },
 "nbformat": 4,
 "nbformat_minor": 5
}
